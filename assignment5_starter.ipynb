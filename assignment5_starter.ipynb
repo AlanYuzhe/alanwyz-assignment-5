{
 "cells": [
  {
   "cell_type": "code",
   "execution_count": 11,
   "metadata": {},
   "outputs": [],
   "source": [
    "import numpy as np\n",
    "import pandas as pd\n",
    "from tqdm import tqdm"
   ]
  },
  {
   "cell_type": "code",
   "execution_count": 12,
   "metadata": {},
   "outputs": [],
   "source": [
    "class KNN:\n",
    "    def __init__(self, k=3):\n",
    "        self.k = k\n",
    "        self.X_train = None\n",
    "        self.y_train = None\n",
    "\n",
    "    def fit(self, X_train, y_train):\n",
    "        self.X_train = X_train\n",
    "        self.y_train = y_train\n",
    "\n",
    "    def compute_distance(self, x1, x2):\n",
    "        return np.sqrt(np.sum((x1 - x2) ** 2))\n",
    "\n",
    "    def get_neighbors(self, test_instance):\n",
    "        distances = []\n",
    "        for i in range(len(self.X_train)):\n",
    "            dist = self.compute_distance(self.X_train[i], test_instance)\n",
    "            distances.append((dist, self.y_train[i]))\n",
    "        distances.sort(key=lambda x: x[0])\n",
    "        neighbors = distances[:self.k]\n",
    "        return neighbors\n",
    "\n",
    "    def predict_proba(self, test_instance):\n",
    "        neighbors = self.get_neighbors(test_instance)\n",
    "        output_values = [neighbor[1] for neighbor in neighbors]\n",
    "        probability = sum(output_values) / self.k\n",
    "        return probability\n",
    "\n",
    "    def predict(self, X_test):\n",
    "        predictions = []\n",
    "        for instance in tqdm(X_test, desc=\"Predicting\", unit=\"instance\", total=len(X_test)):\n",
    "            prob = self.predict_proba(instance)\n",
    "            predictions.append(1 if prob >= 0.5 else 0)\n",
    "        return predictions"
   ]
  },
  {
   "cell_type": "code",
   "execution_count": 13,
   "metadata": {},
   "outputs": [],
   "source": [
    "def preprocess_data(train_path, test_path):\n",
    "    \"\"\"Preprocess the train and test datasets: handle numerical scaling.\"\"\"\n",
    "    # Read the CSV files\n",
    "    train_df = pd.read_csv(train_path)\n",
    "    test_df = pd.read_csv(test_path)\n",
    "\n",
    "    print(\"Missing values in train data:\")\n",
    "    print(train_df.isnull().sum())\n",
    "    print(\"\\nMissing values in test data:\")\n",
    "    print(test_df.isnull().sum())\n",
    "\n",
    "    # Mapping categorical Gender column\n",
    "    gender_mapping = {'Male': 1, 'Female': 0}\n",
    "    train_df['Gender'] = train_df['Gender'].map(gender_mapping)\n",
    "    test_df['Gender'] = test_df['Gender'].map(gender_mapping)\n",
    "\n",
    "    # One-hot encode Geography\n",
    "    geography_train = pd.get_dummies(train_df['Geography'], prefix='Geography')\n",
    "    geography_test = pd.get_dummies(test_df['Geography'], prefix='Geography')\n",
    "\n",
    "    # Align train and test datasets to ensure they have the same columns\n",
    "    geography_train, geography_test = geography_train.align(geography_test, join='outer', axis=1, fill_value=0)\n",
    "\n",
    "    # Drop original Geography columns and concatenate one-hot encoded columns\n",
    "    train_df = train_df.drop('Geography', axis=1)\n",
    "    test_df = test_df.drop('Geography', axis=1)\n",
    "\n",
    "    train_df = pd.concat([train_df, geography_train], axis=1)\n",
    "    test_df = pd.concat([test_df, geography_test], axis=1)\n",
    "\n",
    "    # Scale numerical features\n",
    "    numerical_features = ['CreditScore', 'Age', 'Tenure', 'Balance', 'NumOfProducts', 'EstimatedSalary']\n",
    "\n",
    "    means = train_df[numerical_features].mean()\n",
    "    stds = train_df[numerical_features].std()\n",
    "\n",
    "    train_df[numerical_features] = (train_df[numerical_features] - means) / stds\n",
    "    test_df[numerical_features] = (test_df[numerical_features] - means) / stds\n",
    "\n",
    "    # Preserve the test ids for submission\n",
    "    test_ids = test_df['id']\n",
    "\n",
    "    # Drop unnecessary columns\n",
    "    train_df = train_df.drop(['CustomerId', 'Surname', 'id'], axis=1)\n",
    "    test_df = test_df.drop(['CustomerId', 'Surname', 'id'], axis=1)\n",
    "\n",
    "    # Separate features and target variable\n",
    "    X = train_df.drop('Exited', axis=1).values\n",
    "    y = train_df['Exited'].values\n",
    "    X_test = test_df.values\n",
    "\n",
    "    # Return preprocessed data\n",
    "    return X, y, X_test, test_ids"
   ]
  },
  {
   "cell_type": "code",
   "execution_count": 14,
   "metadata": {},
   "outputs": [],
   "source": [
    "from sklearn.model_selection import KFold\n",
    "from sklearn.metrics import roc_auc_score ## This library is not used for KNN algorithm\n",
    "\n",
    "def cross_validate(X, y, knn, n_splits=5):\n",
    "    kf = KFold(n_splits=n_splits, shuffle=True, random_state=42)\n",
    "    roc_auc_scores = []\n",
    "\n",
    "    # tqdm 进度条显示交叉验证的进度\n",
    "    for train_index, val_index in tqdm(kf.split(X), total=n_splits, desc=\"Cross-Validation Folds\", leave=False):\n",
    "        X_train, X_val = X[train_index], X[val_index]\n",
    "        y_train, y_val = y[train_index], y[val_index]\n",
    "\n",
    "        knn.fit(X_train, y_train)\n",
    "        y_val_preds = [knn.predict_proba(instance) for instance in X_val]\n",
    "        auc = roc_auc_score(y_val, y_val_preds)\n",
    "        roc_auc_scores.append(auc)\n",
    "\n",
    "    return np.mean(roc_auc_scores)"
   ]
  },
  {
   "cell_type": "code",
   "execution_count": 16,
   "metadata": {},
   "outputs": [
    {
     "name": "stdout",
     "output_type": "stream",
     "text": [
      "Missing values in train data:\n",
      "id                 0\n",
      "CustomerId         0\n",
      "Surname            0\n",
      "CreditScore        0\n",
      "Geography          0\n",
      "Gender             0\n",
      "Age                0\n",
      "Tenure             0\n",
      "Balance            0\n",
      "NumOfProducts      0\n",
      "HasCrCard          0\n",
      "IsActiveMember     0\n",
      "EstimatedSalary    0\n",
      "Exited             0\n",
      "dtype: int64\n",
      "\n",
      "Missing values in test data:\n",
      "id                 0\n",
      "CustomerId         0\n",
      "Surname            0\n",
      "CreditScore        0\n",
      "Geography          0\n",
      "Gender             0\n",
      "Age                0\n",
      "Tenure             0\n",
      "Balance            0\n",
      "NumOfProducts      0\n",
      "HasCrCard          0\n",
      "IsActiveMember     0\n",
      "EstimatedSalary    0\n",
      "dtype: int64\n"
     ]
    },
    {
     "name": "stderr",
     "output_type": "stream",
     "text": [
      "                                                                     \r"
     ]
    },
    {
     "name": "stdout",
     "output_type": "stream",
     "text": [
      "K = 6, Cross-Validation AUC: 0.8876\n"
     ]
    },
    {
     "name": "stderr",
     "output_type": "stream",
     "text": [
      "                                                                     \r"
     ]
    },
    {
     "name": "stdout",
     "output_type": "stream",
     "text": [
      "K = 7, Cross-Validation AUC: 0.8931\n"
     ]
    },
    {
     "name": "stderr",
     "output_type": "stream",
     "text": [
      "                                                                     \r"
     ]
    },
    {
     "name": "stdout",
     "output_type": "stream",
     "text": [
      "K = 8, Cross-Validation AUC: 0.8969\n",
      "Best k: 8, Best Cross-Validation Score: 0.8968906687840905\n"
     ]
    },
    {
     "name": "stderr",
     "output_type": "stream",
     "text": [
      "Predicting: 100%|██████████| 10000/10000 [06:07<00:00, 27.19instance/s]"
     ]
    },
    {
     "name": "stdout",
     "output_type": "stream",
     "text": [
      "Predictions saved to 'submissions.csv'\n"
     ]
    },
    {
     "name": "stderr",
     "output_type": "stream",
     "text": [
      "\n"
     ]
    }
   ],
   "source": [
    "# TODO: hyperparamters tuning\n",
    "def hyperparameter_tuning(X, y, k_values=[6,7,8]):\n",
    "    \"\"\"\n",
    "    Perform hyperparameter tuning to find the best k value for KNN.\n",
    "    \"\"\"\n",
    "    best_k = k_values[0]\n",
    "    best_score = 0\n",
    "\n",
    "    for k in k_values:\n",
    "        knn = KNN(k=k)\n",
    "        score = cross_validate(X, y, knn)\n",
    "        print(f\"K = {k}, Cross-Validation AUC: {score:.4f}\")\n",
    "        if score > best_score:\n",
    "            best_score = score\n",
    "            best_k = k\n",
    "\n",
    "    return best_k, best_score\n",
    "\n",
    "# Load and preprocess data\n",
    "X, y, X_test, test_ids = preprocess_data('train.csv', 'test.csv')\n",
    "\n",
    "# Hyperparameter tuning to find the best k\n",
    "best_k, best_score = hyperparameter_tuning(X, y)\n",
    "print(f\"Best k: {best_k}, Best Cross-Validation Score: {best_score}\")\n",
    "\n",
    "# Create and evaluate the model\n",
    "knn = KNN(k=best_k)\n",
    "knn.fit(X, y)\n",
    "\n",
    "# Predict on the test set\n",
    "test_predictions = knn.predict(X_test)\n",
    "\n",
    "# Save test predictions to a CSV file in the samplesubmission format\n",
    "submission = pd.DataFrame({'id': test_ids, 'smoking': test_predictions})\n",
    "submission.to_csv('submissions.csv', index=False)\n",
    "print(\"Predictions saved to 'submissions.csv'\")"
   ]
  }
 ],
 "metadata": {
  "kernelspec": {
   "display_name": "base",
   "language": "python",
   "name": "python3"
  },
  "language_info": {
   "codemirror_mode": {
    "name": "ipython",
    "version": 3
   },
   "file_extension": ".py",
   "mimetype": "text/x-python",
   "name": "python",
   "nbconvert_exporter": "python",
   "pygments_lexer": "ipython3",
   "version": "3.11.4"
  }
 },
 "nbformat": 4,
 "nbformat_minor": 2
}
